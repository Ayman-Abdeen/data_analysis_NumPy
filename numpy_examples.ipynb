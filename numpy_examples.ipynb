{
  "nbformat": 4,
  "nbformat_minor": 0,
  "metadata": {
    "colab": {
      "name": "Untitled1.ipynb",
      "provenance": [],
      "authorship_tag": "ABX9TyOlqHNgoTDf93u8+aHvSRw1",
      "include_colab_link": true
    },
    "kernelspec": {
      "name": "python3",
      "display_name": "Python 3"
    },
    "language_info": {
      "name": "python"
    }
  },
  "cells": [
    {
      "cell_type": "markdown",
      "metadata": {
        "id": "view-in-github",
        "colab_type": "text"
      },
      "source": [
        "<a href=\"https://colab.research.google.com/github/Ayman-Abdeen/data_analysis_NumPy/blob/main/numpy_examples.ipynb\" target=\"_parent\"><img src=\"https://colab.research.google.com/assets/colab-badge.svg\" alt=\"Open In Colab\"/></a>"
      ]
    },
    {
      "cell_type": "code",
      "execution_count": 1,
      "metadata": {
        "id": "alqmYA5rxP0G"
      },
      "outputs": [],
      "source": [
        "import numpy as np"
      ]
    },
    {
      "cell_type": "code",
      "source": [
        "a = np.array([1, 2, 3, 4])\n",
        "print(a)"
      ],
      "metadata": {
        "colab": {
          "base_uri": "https://localhost:8080/"
        },
        "id": "LAFNEM93IXxL",
        "outputId": "7df07b94-80e3-4aff-b9a4-d5bba2f34eab"
      },
      "execution_count": 2,
      "outputs": [
        {
          "output_type": "stream",
          "name": "stdout",
          "text": [
            "[1 2 3 4]\n"
          ]
        }
      ]
    },
    {
      "cell_type": "code",
      "source": [
        "# Dimensions\n",
        "# 0-D array\n",
        "a = np.array(120)\n",
        "print('0 d array:\\n', a)\n",
        "\n",
        "print('\\n---------- Dimensions ----------')\n",
        "\n",
        "# 1-D array\n",
        "one_d = np.array([3, 1, 7, 5])\n",
        "print('1 d array:\\n', one_d)\n",
        "\n",
        "print('\\n---------- Dimensions ----------')\n",
        "\n",
        "# 2-D array\n",
        "two_d = np.array([[1, 3, 2], [5, 6, 4]])\n",
        "print('2 d array:\\n', two_d)\n",
        "\n",
        "print('\\n---------- Dimensions ----------')\n",
        "\n",
        "# 3-D array\n",
        "three_d = np.array([[[1, 2], [2, 3]], [[3, 5], [6, 7]]])\n",
        "print('3 d array:\\n', three_d)"
      ],
      "metadata": {
        "id": "Patr_1RZIsEX",
        "outputId": "4d44193e-0491-4041-bc0d-2acc4f012a51",
        "colab": {
          "base_uri": "https://localhost:8080/"
        }
      },
      "execution_count": 5,
      "outputs": [
        {
          "output_type": "stream",
          "name": "stdout",
          "text": [
            "0 d array:\n",
            " 120\n",
            "\n",
            "---------- Dimensions ----------\n",
            "1 d array:\n",
            " [3 1 7 5]\n",
            "\n",
            "---------- Dimensions ----------\n",
            "2 d array:\n",
            " [[1 3 2]\n",
            " [5 6 4]]\n",
            "\n",
            "---------- Dimensions ----------\n",
            "3 d array:\n",
            " [[[1 2]\n",
            "  [2 3]]\n",
            "\n",
            " [[3 5]\n",
            "  [6 7]]]\n"
          ]
        }
      ]
    },
    {
      "cell_type": "code",
      "source": [
        "# Array attributes\n",
        "print('Array dimensions:', two_d.ndim)\n",
        "print('Array shape:', two_d.shape)"
      ],
      "metadata": {
        "id": "c2OGF747I0V7",
        "outputId": "21de161b-3707-4381-a608-d7ad5bbb4db2",
        "colab": {
          "base_uri": "https://localhost:8080/"
        }
      },
      "execution_count": 6,
      "outputs": [
        {
          "output_type": "stream",
          "name": "stdout",
          "text": [
            "Array dimensions: 2\n",
            "Array shape: (2, 3)\n"
          ]
        }
      ]
    },
    {
      "cell_type": "code",
      "source": [
        "#Accessing/Indexing\n",
        "print('first item in one d array:', one_d[0])\n",
        "print('first item in two d array:', two_d[0, 0])\n",
        "print('first item in three d array:', three_d[0, 0, 0])\n"
      ],
      "metadata": {
        "id": "OkOo0YM8JMx_",
        "outputId": "e4fe2142-d86d-47ae-f287-a89ef36a10df",
        "colab": {
          "base_uri": "https://localhost:8080/"
        }
      },
      "execution_count": 7,
      "outputs": [
        {
          "output_type": "stream",
          "name": "stdout",
          "text": [
            "first item in one d array: 3\n",
            "first item in two d array: 1\n",
            "first item in three d array: 1\n"
          ]
        }
      ]
    },
    {
      "cell_type": "code",
      "source": [
        "# 1-d array iterating\n",
        "for x in one_d:\n",
        "    print(x)\n"
      ],
      "metadata": {
        "id": "rB9iZZW4JUHW",
        "outputId": "726c950f-9853-4890-c01f-4858725fac5a",
        "colab": {
          "base_uri": "https://localhost:8080/"
        }
      },
      "execution_count": 8,
      "outputs": [
        {
          "output_type": "stream",
          "name": "stdout",
          "text": [
            "3\n",
            "1\n",
            "7\n",
            "5\n"
          ]
        }
      ]
    },
    {
      "cell_type": "code",
      "source": [
        "# 2-d array iterating\n",
        "print('Iterating over 2 d array')\n",
        "for x in two_d:\n",
        "    for y in x:\n",
        "        print(y)"
      ],
      "metadata": {
        "id": "-MVlmypQJaUB",
        "outputId": "81f6ff9d-df5e-4bd6-c9c8-0c1084605d60",
        "colab": {
          "base_uri": "https://localhost:8080/"
        }
      },
      "execution_count": 9,
      "outputs": [
        {
          "output_type": "stream",
          "name": "stdout",
          "text": [
            "Iterating over 2 d array\n",
            "1\n",
            "3\n",
            "2\n",
            "5\n",
            "6\n",
            "4\n"
          ]
        }
      ]
    },
    {
      "cell_type": "code",
      "source": [
        "# 3-d array iterating\n",
        "print('Iterating over 3 d array')\n",
        "for x in three_d:\n",
        "    for y in x:\n",
        "        for f in y:\n",
        "            print(f)"
      ],
      "metadata": {
        "id": "5AfaFXcMJctk",
        "outputId": "60bf2b97-79cc-49a6-9491-557f3701a516",
        "colab": {
          "base_uri": "https://localhost:8080/"
        }
      },
      "execution_count": 10,
      "outputs": [
        {
          "output_type": "stream",
          "name": "stdout",
          "text": [
            "Iterating over 3 d array\n",
            "1\n",
            "2\n",
            "2\n",
            "3\n",
            "3\n",
            "5\n",
            "6\n",
            "7\n"
          ]
        }
      ]
    },
    {
      "cell_type": "code",
      "source": [
        "print('Iterating over all items in array using nditer:')\n",
        "for x in np.nditer(two_d):\n",
        "    print(x)\n"
      ],
      "metadata": {
        "id": "EYy9s6cvJeyb",
        "outputId": "cc1cb9ee-0faf-4a2c-e066-70319b806903",
        "colab": {
          "base_uri": "https://localhost:8080/"
        }
      },
      "execution_count": 11,
      "outputs": [
        {
          "output_type": "stream",
          "name": "stdout",
          "text": [
            "Iterating over all items in array using nditer:\n",
            "1\n",
            "3\n",
            "2\n",
            "5\n",
            "6\n",
            "4\n"
          ]
        }
      ]
    },
    {
      "cell_type": "code",
      "source": [
        "#Search\n",
        "# where function\n",
        "print(np.where(two_d == 4))  # will find all indices match the condition\n",
        "print(np.where(two_d % 2 == 0))  # will find all indices match the condition (all even numbers)"
      ],
      "metadata": {
        "id": "T18a93n6JhLY",
        "outputId": "6bedfa8b-5b1c-4a99-d585-673a10a42119",
        "colab": {
          "base_uri": "https://localhost:8080/"
        }
      },
      "execution_count": 12,
      "outputs": [
        {
          "output_type": "stream",
          "name": "stdout",
          "text": [
            "(array([1]), array([2]))\n",
            "(array([0, 1, 1]), array([2, 1, 2]))\n"
          ]
        }
      ]
    },
    {
      "cell_type": "code",
      "source": [
        "#Sort\n",
        "print('Sorting array:\\n', np.sort(one_d))\n",
        "print('Sorting each row in array: \\n', np.sort(two_d))\n"
      ],
      "metadata": {
        "id": "zdx_PTPkJnp9",
        "outputId": "57df18da-1537-4313-f2ed-83079cf9094a",
        "colab": {
          "base_uri": "https://localhost:8080/"
        }
      },
      "execution_count": 13,
      "outputs": [
        {
          "output_type": "stream",
          "name": "stdout",
          "text": [
            "Sorting array:\n",
            " [1 3 5 7]\n",
            "Sorting each row in array: \n",
            " [[1 2 3]\n",
            " [4 5 6]]\n"
          ]
        }
      ]
    },
    {
      "cell_type": "code",
      "source": [
        "#Random numbers\n",
        "print('Random integer:', np.random.randint(100))\n",
        "print('Random integer between 2 numbers:', np.random.randint(10, 80))\n",
        "print('Random float ben 0-1:', np.random.rand())\n"
      ],
      "metadata": {
        "id": "sDYqC4r4Jtv9",
        "outputId": "5adae71c-6e4e-46e3-8186-36ac5f7426c4",
        "colab": {
          "base_uri": "https://localhost:8080/"
        }
      },
      "execution_count": 14,
      "outputs": [
        {
          "output_type": "stream",
          "name": "stdout",
          "text": [
            "Random integer: 56\n",
            "Random integer between 2 numbers: 68\n",
            "Random float ben 0-1: 0.744159251300566\n"
          ]
        }
      ]
    },
    {
      "cell_type": "code",
      "source": [
        "#Array generation\n",
        "print('Generating integer matrix 2x3 with random integer numbers:\\n', np.random.randint(10, 90, size=(2, 3)))\n",
        "print('Generating float matrix 2x3 with random numbers 0-1:\\n', np.random.rand(2, 3))\n",
        "print('Generating zeros matrix 2x3:\\n', np.zeros((2, 3), int))\n",
        "print('Generating ones matrix 2x3:\\n', np.ones((2, 3), int))"
      ],
      "metadata": {
        "id": "71fauwTHJ20f",
        "outputId": "9371e748-2b21-43a1-dfae-def092405e50",
        "colab": {
          "base_uri": "https://localhost:8080/"
        }
      },
      "execution_count": 15,
      "outputs": [
        {
          "output_type": "stream",
          "name": "stdout",
          "text": [
            "Generating integer matrix 2x3 with random integer numbers:\n",
            " [[77 61 89]\n",
            " [38 73 52]]\n",
            "Generating float matrix 2x3 with random numbers 0-1:\n",
            " [[0.45126248 0.58033366 0.19478375]\n",
            " [0.6688321  0.8290588  0.88130768]]\n",
            "Generating zeros matrix 2x3:\n",
            " [[0 0 0]\n",
            " [0 0 0]]\n",
            "Generating ones matrix 2x3:\n",
            " [[1 1 1]\n",
            " [1 1 1]]\n"
          ]
        }
      ]
    },
    {
      "cell_type": "code",
      "source": [
        "#Transpose\n",
        "two_d_t = two_d.T\n",
        "print('original 2 d:\\n', two_d, two_d.shape)\n",
        "print('Transposed 2 d:\\n', two_d_t, two_d_t.shape)"
      ],
      "metadata": {
        "id": "tpiHk7ZOJ9tz",
        "outputId": "3a2ab988-2606-4a23-d600-bdf8243602c2",
        "colab": {
          "base_uri": "https://localhost:8080/"
        }
      },
      "execution_count": 16,
      "outputs": [
        {
          "output_type": "stream",
          "name": "stdout",
          "text": [
            "original 2 d:\n",
            " [[1 3 2]\n",
            " [5 6 4]] (2, 3)\n",
            "Transposed 2 d:\n",
            " [[1 5]\n",
            " [3 6]\n",
            " [2 4]] (3, 2)\n"
          ]
        }
      ]
    },
    {
      "cell_type": "code",
      "source": [
        "#copy\n",
        "two_d_c = two_d.copy()\n",
        "two_d_c[0, 1] = 1000192\n",
        "print('Original 2d:\\n', two_d)\n",
        "print('copied 2d:\\n', two_d_c)"
      ],
      "metadata": {
        "id": "4sXk_wO9KFTk",
        "outputId": "381fdffc-7a65-44eb-abc7-4fd24d2d5b1f",
        "colab": {
          "base_uri": "https://localhost:8080/"
        }
      },
      "execution_count": 17,
      "outputs": [
        {
          "output_type": "stream",
          "name": "stdout",
          "text": [
            "Original 2d:\n",
            " [[1 3 2]\n",
            " [5 6 4]]\n",
            "copied 2d:\n",
            " [[      1 1000192       2]\n",
            " [      5       6       4]]\n"
          ]
        }
      ]
    },
    {
      "cell_type": "code",
      "source": [
        "#Mathematical operations\n",
        "a = np.array([1, 2])\n",
        "b = np.array([3, 4])\n",
        "print('Result of a + b: ', np.add(a, b))\n",
        "print('Result of a - b: ', np.subtract(a, b))\n",
        "print('Result of a * b: ', np.multiply(a, b))\n",
        "print('Result of a / b: ', np.divide(a, b))\n",
        "print('Result of a ^ b: ', np.power(a, b))\n",
        "print('Result of a ^ 2: ', np.power(a, 2))\n"
      ],
      "metadata": {
        "id": "qCqgpyAdKMau",
        "outputId": "4f4625d3-9d74-41d5-d60a-fae26026871b",
        "colab": {
          "base_uri": "https://localhost:8080/"
        }
      },
      "execution_count": 18,
      "outputs": [
        {
          "output_type": "stream",
          "name": "stdout",
          "text": [
            "Result of a + b:  [4 6]\n",
            "Result of a - b:  [-2 -2]\n",
            "Result of a * b:  [3 8]\n",
            "Result of a / b:  [0.33333333 0.5       ]\n",
            "Result of a ^ b:  [ 1 16]\n",
            "Result of a ^ 2:  [1 4]\n"
          ]
        }
      ]
    },
    {
      "cell_type": "code",
      "source": [
        "#Trigonometric operations\n",
        "a = np.array([0, 1])\n",
        "print(np.sin(a))\n",
        "print(np.cos(a))"
      ],
      "metadata": {
        "id": "PAOtAikdKSaT",
        "outputId": "c2e8a9dd-047f-4e3d-adc2-d78ddf02cc44",
        "colab": {
          "base_uri": "https://localhost:8080/"
        }
      },
      "execution_count": 19,
      "outputs": [
        {
          "output_type": "stream",
          "name": "stdout",
          "text": [
            "[0.         0.84147098]\n",
            "[1.         0.54030231]\n"
          ]
        }
      ]
    },
    {
      "cell_type": "code",
      "source": [
        "#Statistical functions \n",
        "a = two_d\n",
        "print('Min item in array:', np.amin(a))\n",
        "print('Max item in array:', np.amax(a))\n",
        "print('Median of array:', np.median(a))\n",
        "print('standard deviation of array:', np.std(a))\n",
        "print('Average of array:', np.average(a))\n",
        "print('Mean of array:', np.mean(a))\n",
        "print('Variance of array:', np.var(a))"
      ],
      "metadata": {
        "id": "_nSyYGymKYTi",
        "outputId": "c7b453e1-0aae-4e54-df3d-09e0a6e39c82",
        "colab": {
          "base_uri": "https://localhost:8080/"
        }
      },
      "execution_count": 20,
      "outputs": [
        {
          "output_type": "stream",
          "name": "stdout",
          "text": [
            "Min item in array: 1\n",
            "Max item in array: 6\n",
            "Median of array: 3.5\n",
            "standard deviation of array: 1.707825127659933\n",
            "Average of array: 3.5\n",
            "Mean of array: 3.5\n",
            "Variance of array: 2.9166666666666665\n"
          ]
        }
      ]
    },
    {
      "cell_type": "code",
      "source": [
        "#Algebra functions\n",
        "a = np.array([2, 4])\n",
        "b = np.array([3, 5])\n",
        "print('1-d Matrices multiplication:\\n', np.matmul(a, b))"
      ],
      "metadata": {
        "id": "RBpeLuBlKfLI",
        "outputId": "8181d079-5b3c-4502-f402-a23bd96bd87a",
        "colab": {
          "base_uri": "https://localhost:8080/"
        }
      },
      "execution_count": 21,
      "outputs": [
        {
          "output_type": "stream",
          "name": "stdout",
          "text": [
            "1-d Matrices multiplication:\n",
            " 26\n"
          ]
        }
      ]
    },
    {
      "cell_type": "code",
      "source": [
        "a = np.array([[2, 4], [1, 3]])\n",
        "b = np.array([[3, 5], [4, 6]])\n",
        "print('2-d Matrices multiplication:\\n', np.matmul(a, b))"
      ],
      "metadata": {
        "id": "XvH-Kkd1Kk2p",
        "outputId": "aae4b9b4-ef6e-4805-8acf-6855afd431c5",
        "colab": {
          "base_uri": "https://localhost:8080/"
        }
      },
      "execution_count": 22,
      "outputs": [
        {
          "output_type": "stream",
          "name": "stdout",
          "text": [
            "2-d Matrices multiplication:\n",
            " [[22 34]\n",
            " [15 23]]\n"
          ]
        }
      ]
    },
    {
      "cell_type": "code",
      "source": [
        "#Algebra functions\n",
        "a = np.array([1, 2, 3, 5, 6, 1, 2, 3, 4, 1, 1, 2, 6])\n",
        "print('Histogram of array', np.histogram(a))"
      ],
      "metadata": {
        "id": "dV-Jf1_DKpp7",
        "outputId": "76108e48-c60e-471d-ee4f-93abe4e255ab",
        "colab": {
          "base_uri": "https://localhost:8080/"
        }
      },
      "execution_count": 24,
      "outputs": [
        {
          "output_type": "stream",
          "name": "stdout",
          "text": [
            "Histogram of array (array([4, 0, 3, 0, 2, 0, 1, 0, 1, 2]), array([1. , 1.5, 2. , 2.5, 3. , 3.5, 4. , 4.5, 5. , 5.5, 6. ]))\n"
          ]
        }
      ]
    },
    {
      "cell_type": "code",
      "source": [
        ""
      ],
      "metadata": {
        "id": "buk1uDaYKsSh"
      },
      "execution_count": null,
      "outputs": []
    }
  ]
}